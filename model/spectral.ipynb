{
 "cells": [
  {
   "cell_type": "code",
   "execution_count": 34,
   "metadata": {},
   "outputs": [],
   "source": [
    "import tensorflow as tf\n",
    "import matplotlib.pyplot as plt\n",
    "import numpy as np\n",
    "from dataloader import DataLoader\n",
    "\n",
    "from tensorflow.keras import layers, losses\n",
    "from tensorflow.keras.layers import Dense, Flatten, Reshape\n",
    "from tensorflow.keras.models import Sequential, Model\n",
    "from tensorflow.keras.optimizers import Adam\n",
    "from tensorflow.keras.layers import LeakyReLU"
   ]
  },
  {
   "cell_type": "code",
   "execution_count": 35,
   "metadata": {},
   "outputs": [
    {
     "name": "stdout",
     "output_type": "stream",
     "text": [
      "/Users/aidan/Documents/caterpillar/model\n"
     ]
    },
    {
     "name": "stderr",
     "output_type": "stream",
     "text": [
      "[21:14:18] WARNING: not removing hydrogen atom without neighbors\n",
      "[21:14:18] WARNING: not removing hydrogen atom without neighbors\n",
      "[21:14:18] WARNING: not removing hydrogen atom without neighbors\n",
      "[21:14:18] WARNING: not removing hydrogen atom without neighbors\n",
      "[21:14:18] WARNING: not removing hydrogen atom without neighbors\n",
      "[21:14:18] WARNING: not removing hydrogen atom without neighbors\n",
      "[21:14:18] WARNING: not removing hydrogen atom without neighbors\n",
      "[21:14:18] WARNING: not removing hydrogen atom without neighbors\n",
      "[21:14:18] WARNING: not removing hydrogen atom without neighbors\n",
      "[21:14:19] WARNING: not removing hydrogen atom without neighbors\n",
      "[21:14:19] WARNING: not removing hydrogen atom without neighbors\n",
      "[21:14:19] WARNING: not removing hydrogen atom without neighbors\n",
      "[21:14:19] WARNING: not removing hydrogen atom without neighbors\n",
      "[21:14:19] WARNING: not removing hydrogen atom without neighbors\n",
      "[21:14:19] WARNING: not removing hydrogen atom without neighbors\n",
      "[21:14:19] WARNING: not removing hydrogen atom without neighbors\n",
      "[21:14:19] WARNING: not removing hydrogen atom without neighbors\n",
      "[21:14:19] WARNING: not removing hydrogen atom without neighbors\n",
      "[21:14:19] WARNING: not removing hydrogen atom without neighbors\n"
     ]
    },
    {
     "name": "stdout",
     "output_type": "stream",
     "text": [
      "[1024 1467   95 1288  166 1651 1628 1294 1197  650 1004 1666 1510 1955\n",
      "  481 1204 1213 1433  384 1168 1601 1385   76 1533  555 1490 1171 1928\n",
      " 1930 1994 1364 1212  445 1633 1090 1699  997 1269 1199 1832  157 1815\n",
      " 1808 1276 1250 1506 1143 1923  224 1071 1794  976 1466 1290  948 1434\n",
      " 1248 1442 1995  360  167 1565  634   87  310 1304  952   46 1238   40\n",
      "  528 1569 1389 1755  593 1620 1015  335 1743 1678 1874 1203  637 1949\n",
      "  990 1906 1262 1681 1165 1613 1222 1674 1388  451  465  225 2010 1116\n",
      "  992 1689 1870  184 1766 1555 1406  572  576 1183 1370  134  977  333\n",
      " 1362 1425 1574 1710  240 1175 1844 1436 1342   34 1414 1806 1429 1891\n",
      "  425 1641 1358  589 1947 1286  529  215  118 1322 1416  547  441 1318\n",
      " 1823  600 1997 1881 1682 1338 1617 1409 1420  532   23 1701 1058  698\n",
      " 1692 1102 1830 1970 1966 1909 2023 1360 1438 1838 1149  458 1873  319\n",
      " 1167 1853 1595 1889 1899 1145 1475  427  973 1894 1585  213 2030 1786\n",
      " 1379 1431  247 1218  135 1031  165 1903  505 1327  971  627 1927 1931\n",
      " 1990 2017  473 1604 1182 1378 1560 2036 1751   29 1517 1412  705 1514\n",
      "  667  974 1522 2011 1805  290 1518  699  669  604    3  285 1448 1637\n",
      " 1817  188 1186  521  186 1042 1893 1790 1885  676 1152 1244  245  138\n",
      "  315 1660 1039 1704  581   75  357 1642 1804  442  488  530  951 1800\n",
      " 1220 1564 1216  540 1240 1214   82  994 1504 1797  701  934 1525 1447\n",
      "  132  607   26  407  967  583 1192 1768 1026  504 1770 1965 1843 1381\n",
      " 1851 1344 1162 1135 1281  991   64 1368  455 1382  657 1549 1597 1291\n",
      " 1153 1568 1946 1427 1888  703   47 1443 2000  644 1998  700 1895 1328\n",
      " 1101 1977  541  651 1482    4  687 1181  968 1744 1716 1584 1333 1232\n",
      "  689 1706 1109  938 1816 1055  962 1643 1415  638  503 1471  449 1444\n",
      " 1596  558  573 1147  949 1118 1341 1821 1516   65  346 1246 1612 1128\n",
      " 1114 1488 1310 1011 1967 1801 1066 1421 1986 1479 1918 1419  940  578\n",
      " 1667 1393 1625  379   86 1762   93 1759 1472 1590 1687 1648  399 1847\n",
      " 1405 1079 1542  673   68  993 1059 1169  978  985 1263 1297 1774 1556\n",
      " 1185  500  550 1652 1544 1886  672 1080 1326 1784 1878 1361   42  446\n",
      " 1799 1266 1669 1473 1046 1904 1395  972 1495  137 1558 1357 1718  478\n",
      " 1081 1849  959  612  414 1195  170  331  988  966 1036 1828   89 1299\n",
      " 1896 1819 1581  653 1865 1078 1198 1014 1028 1573 1976 1730 1810  401\n",
      " 1827   20  954 1702 1566 1546 1972  433   83  666  586 1835 1825 1267\n",
      " 1205 2018 1721 1125 1463 1260 1247 1164 1729 1494  649   45 1734  630\n",
      " 1529  681 1848]\n",
      "1\n"
     ]
    },
    {
     "name": "stderr",
     "output_type": "stream",
     "text": [
      "[21:14:19] WARNING: not removing hydrogen atom without neighbors\n",
      "[21:14:19] WARNING: not removing hydrogen atom without neighbors\n",
      "[21:14:19] WARNING: not removing hydrogen atom without neighbors\n",
      "[21:14:19] WARNING: not removing hydrogen atom without neighbors\n",
      "[21:14:19] WARNING: not removing hydrogen atom without neighbors\n",
      "[21:14:19] WARNING: not removing hydrogen atom without neighbors\n",
      "[21:14:19] WARNING: not removing hydrogen atom without neighbors\n",
      "[21:14:19] WARNING: not removing hydrogen atom without neighbors\n",
      "[21:14:19] WARNING: not removing hydrogen atom without neighbors\n",
      "[21:14:19] WARNING: not removing hydrogen atom without neighbors\n",
      "[21:14:19] WARNING: not removing hydrogen atom without neighbors\n",
      "[21:14:19] WARNING: not removing hydrogen atom without neighbors\n",
      "[21:14:19] WARNING: not removing hydrogen atom without neighbors\n",
      "[21:14:19] WARNING: not removing hydrogen atom without neighbors\n",
      "[21:14:19] WARNING: not removing hydrogen atom without neighbors\n",
      "[21:14:19] WARNING: not removing hydrogen atom without neighbors\n",
      "[21:14:19] WARNING: not removing hydrogen atom without neighbors\n",
      "[21:14:19] WARNING: not removing hydrogen atom without neighbors\n",
      "[21:14:19] WARNING: not removing hydrogen atom without neighbors\n",
      "[21:14:19] WARNING: not removing hydrogen atom without neighbors\n",
      "[21:14:19] WARNING: not removing hydrogen atom without neighbors\n"
     ]
    },
    {
     "ename": "TypeError",
     "evalue": "unhashable type: 'list'",
     "output_type": "error",
     "traceback": [
      "\u001b[0;31m---------------------------------------------------------------------------\u001b[0m",
      "\u001b[0;31mTypeError\u001b[0m                                 Traceback (most recent call last)",
      "\u001b[0;32m/var/folders/xf/mwvkzqj51j93w8hrtltgvgn40000gn/T/ipykernel_65724/3996453937.py\u001b[0m in \u001b[0;36m?\u001b[0;34m()\u001b[0m\n\u001b[0;32m----> 1\u001b[0;31m \u001b[0mx_train\u001b[0m\u001b[0;34m,\u001b[0m \u001b[0my_train\u001b[0m\u001b[0;34m,\u001b[0m \u001b[0mx_test\u001b[0m\u001b[0;34m,\u001b[0m \u001b[0my_test\u001b[0m \u001b[0;34m=\u001b[0m \u001b[0mDataLoader\u001b[0m\u001b[0;34m(\u001b[0m\u001b[0;34m'../data/test.csv'\u001b[0m\u001b[0;34m,\u001b[0m \u001b[0mmodelType\u001b[0m\u001b[0;34m=\u001b[0m\u001b[0;34m'spectral'\u001b[0m\u001b[0;34m,\u001b[0m \u001b[0mfiftyfifty\u001b[0m\u001b[0;34m=\u001b[0m\u001b[0;32mTrue\u001b[0m\u001b[0;34m)\u001b[0m\u001b[0;34m.\u001b[0m\u001b[0mgetData\u001b[0m\u001b[0;34m(\u001b[0m\u001b[0;34m)\u001b[0m\u001b[0;34m\u001b[0m\u001b[0;34m\u001b[0m\u001b[0m\n\u001b[0m",
      "\u001b[0;32m~/Documents/caterpillar/model/dataloader.py\u001b[0m in \u001b[0;36m?\u001b[0;34m(self)\u001b[0m\n\u001b[1;32m     73\u001b[0m                 \u001b[0;31m# Filter out all in self.dataset where ExactMass is -1\u001b[0m\u001b[0;34m\u001b[0m\u001b[0;34m\u001b[0m\u001b[0;34m\u001b[0m\u001b[0m\n\u001b[1;32m     74\u001b[0m                 \u001b[0mself\u001b[0m\u001b[0;34m.\u001b[0m\u001b[0mdataset\u001b[0m \u001b[0;34m=\u001b[0m \u001b[0mself\u001b[0m\u001b[0;34m.\u001b[0m\u001b[0mdataset\u001b[0m\u001b[0;34m[\u001b[0m\u001b[0mself\u001b[0m\u001b[0;34m.\u001b[0m\u001b[0mdataset\u001b[0m\u001b[0;34m[\u001b[0m\u001b[0;34m'ExactMass'\u001b[0m\u001b[0;34m]\u001b[0m \u001b[0;34m!=\u001b[0m \u001b[0;34m-\u001b[0m\u001b[0;36m1\u001b[0m\u001b[0;34m]\u001b[0m\u001b[0;34m\u001b[0m\u001b[0;34m\u001b[0m\u001b[0m\n\u001b[1;32m     75\u001b[0m             \u001b[0;31m# get only the columns we want\u001b[0m\u001b[0;34m\u001b[0m\u001b[0;34m\u001b[0m\u001b[0;34m\u001b[0m\u001b[0m\n\u001b[1;32m     76\u001b[0m             \u001b[0mself\u001b[0m\u001b[0;34m.\u001b[0m\u001b[0mdataset\u001b[0m \u001b[0;34m=\u001b[0m \u001b[0mself\u001b[0m\u001b[0;34m.\u001b[0m\u001b[0mdataset\u001b[0m\u001b[0;34m[\u001b[0m\u001b[0mdefault\u001b[0m\u001b[0;34m]\u001b[0m\u001b[0;34m\u001b[0m\u001b[0;34m\u001b[0m\u001b[0m\n\u001b[0;32m---> 77\u001b[0;31m             \u001b[0mself\u001b[0m\u001b[0;34m.\u001b[0m\u001b[0mcheckfiftyfifty\u001b[0m\u001b[0;34m(\u001b[0m\u001b[0;34m)\u001b[0m\u001b[0;34m\u001b[0m\u001b[0;34m\u001b[0m\u001b[0m\n\u001b[0m\u001b[1;32m     78\u001b[0m             \u001b[0mprint\u001b[0m\u001b[0;34m(\u001b[0m\u001b[0mself\u001b[0m\u001b[0;34m.\u001b[0m\u001b[0mdataset\u001b[0m\u001b[0;34m[\u001b[0m\u001b[0;34m'p_np'\u001b[0m\u001b[0;34m]\u001b[0m\u001b[0;34m.\u001b[0m\u001b[0mvalue_counts\u001b[0m\u001b[0;34m(\u001b[0m\u001b[0;34m)\u001b[0m\u001b[0;34m)\u001b[0m\u001b[0;34m\u001b[0m\u001b[0;34m\u001b[0m\u001b[0m\n\u001b[1;32m     79\u001b[0m             \u001b[0mx\u001b[0m \u001b[0;34m=\u001b[0m \u001b[0;34m[\u001b[0m\u001b[0;34m]\u001b[0m\u001b[0;34m\u001b[0m\u001b[0;34m\u001b[0m\u001b[0m\n\u001b[1;32m     80\u001b[0m             \u001b[0my\u001b[0m \u001b[0;34m=\u001b[0m \u001b[0;34m[\u001b[0m\u001b[0;34m]\u001b[0m\u001b[0;34m\u001b[0m\u001b[0;34m\u001b[0m\u001b[0m\n",
      "\u001b[0;32m~/Documents/caterpillar/model/dataloader.py\u001b[0m in \u001b[0;36m?\u001b[0;34m(self)\u001b[0m\n",
      "\u001b[0;32m~/Library/Python/3.9/lib/python/site-packages/pandas/core/indexing.py\u001b[0m in \u001b[0;36m?\u001b[0;34m(self, axis)\u001b[0m\n\u001b[1;32m    675\u001b[0m         \u001b[0;31m# we need to return a copy of ourselves\u001b[0m\u001b[0;34m\u001b[0m\u001b[0;34m\u001b[0m\u001b[0;34m\u001b[0m\u001b[0m\n\u001b[1;32m    676\u001b[0m         \u001b[0mnew_self\u001b[0m \u001b[0;34m=\u001b[0m \u001b[0mtype\u001b[0m\u001b[0;34m(\u001b[0m\u001b[0mself\u001b[0m\u001b[0;34m)\u001b[0m\u001b[0;34m(\u001b[0m\u001b[0mself\u001b[0m\u001b[0;34m.\u001b[0m\u001b[0mname\u001b[0m\u001b[0;34m,\u001b[0m \u001b[0mself\u001b[0m\u001b[0;34m.\u001b[0m\u001b[0mobj\u001b[0m\u001b[0;34m)\u001b[0m\u001b[0;34m\u001b[0m\u001b[0;34m\u001b[0m\u001b[0m\n\u001b[1;32m    677\u001b[0m \u001b[0;34m\u001b[0m\u001b[0m\n\u001b[1;32m    678\u001b[0m         \u001b[0;32mif\u001b[0m \u001b[0maxis\u001b[0m \u001b[0;32mis\u001b[0m \u001b[0;32mnot\u001b[0m \u001b[0;32mNone\u001b[0m\u001b[0;34m:\u001b[0m\u001b[0;34m\u001b[0m\u001b[0;34m\u001b[0m\u001b[0m\n\u001b[0;32m--> 679\u001b[0;31m             \u001b[0maxis_int_none\u001b[0m \u001b[0;34m=\u001b[0m \u001b[0mself\u001b[0m\u001b[0;34m.\u001b[0m\u001b[0mobj\u001b[0m\u001b[0;34m.\u001b[0m\u001b[0m_get_axis_number\u001b[0m\u001b[0;34m(\u001b[0m\u001b[0maxis\u001b[0m\u001b[0;34m)\u001b[0m\u001b[0;34m\u001b[0m\u001b[0;34m\u001b[0m\u001b[0m\n\u001b[0m\u001b[1;32m    680\u001b[0m         \u001b[0;32melse\u001b[0m\u001b[0;34m:\u001b[0m\u001b[0;34m\u001b[0m\u001b[0;34m\u001b[0m\u001b[0m\n\u001b[1;32m    681\u001b[0m             \u001b[0maxis_int_none\u001b[0m \u001b[0;34m=\u001b[0m \u001b[0maxis\u001b[0m\u001b[0;34m\u001b[0m\u001b[0;34m\u001b[0m\u001b[0m\n\u001b[1;32m    682\u001b[0m         \u001b[0mnew_self\u001b[0m\u001b[0;34m.\u001b[0m\u001b[0maxis\u001b[0m \u001b[0;34m=\u001b[0m \u001b[0maxis_int_none\u001b[0m\u001b[0;34m\u001b[0m\u001b[0;34m\u001b[0m\u001b[0m\n",
      "\u001b[0;32m~/Library/Python/3.9/lib/python/site-packages/pandas/core/generic.py\u001b[0m in \u001b[0;36m?\u001b[0;34m(cls, axis)\u001b[0m\n\u001b[1;32m    511\u001b[0m     \u001b[0;32mdef\u001b[0m \u001b[0m_get_axis_number\u001b[0m\u001b[0;34m(\u001b[0m\u001b[0mcls\u001b[0m\u001b[0;34m,\u001b[0m \u001b[0maxis\u001b[0m\u001b[0;34m:\u001b[0m \u001b[0mAxis\u001b[0m\u001b[0;34m)\u001b[0m \u001b[0;34m->\u001b[0m \u001b[0mAxisInt\u001b[0m\u001b[0;34m:\u001b[0m\u001b[0;34m\u001b[0m\u001b[0;34m\u001b[0m\u001b[0m\n\u001b[1;32m    512\u001b[0m         \u001b[0;32mtry\u001b[0m\u001b[0;34m:\u001b[0m\u001b[0;34m\u001b[0m\u001b[0;34m\u001b[0m\u001b[0m\n\u001b[1;32m    513\u001b[0m             \u001b[0;32mreturn\u001b[0m \u001b[0mcls\u001b[0m\u001b[0;34m.\u001b[0m\u001b[0m_AXIS_TO_AXIS_NUMBER\u001b[0m\u001b[0;34m[\u001b[0m\u001b[0maxis\u001b[0m\u001b[0;34m]\u001b[0m\u001b[0;34m\u001b[0m\u001b[0;34m\u001b[0m\u001b[0m\n\u001b[1;32m    514\u001b[0m         \u001b[0;32mexcept\u001b[0m \u001b[0mKeyError\u001b[0m\u001b[0;34m:\u001b[0m\u001b[0;34m\u001b[0m\u001b[0;34m\u001b[0m\u001b[0m\n\u001b[0;32m--> 515\u001b[0;31m             \u001b[0;32mraise\u001b[0m \u001b[0mValueError\u001b[0m\u001b[0;34m(\u001b[0m\u001b[0;34mf\"No axis named {axis} for object type {cls.__name__}\"\u001b[0m\u001b[0;34m)\u001b[0m\u001b[0;34m\u001b[0m\u001b[0;34m\u001b[0m\u001b[0m\n\u001b[0m",
      "\u001b[0;31mTypeError\u001b[0m: unhashable type: 'list'"
     ]
    }
   ],
   "source": [
    "x_train, y_train, x_test, y_test = DataLoader('../data/test.csv', modelType='spectral', fiftyfifty=True).getData()"
   ]
  },
  {
   "cell_type": "code",
   "execution_count": null,
   "metadata": {},
   "outputs": [],
   "source": [
    "x_train = np.asarray(x_train)\n",
    "x_train = x_train.astype('float32')\n",
    "x_test = np.asarray(x_test)\n",
    "x_test = x_test.astype('float32')\n",
    "y_train = np.asarray(y_train)\n",
    "y_train = y_train.astype('float32')\n",
    "y_test = np.asarray(y_test)\n",
    "y_test = y_test.astype('float32')"
   ]
  },
  {
   "cell_type": "code",
   "execution_count": null,
   "metadata": {},
   "outputs": [],
   "source": [
    "spectral_model = tf.keras.Sequential([\n",
    "    layers.Dense(200, activation = 'relu'),\n",
    "    layers.Dense(150, activation = 'relu'),\n",
    "    layers.Dense(50, activation = 'relu'),\n",
    "    layers.Dense(10, activation = 'relu'),\n",
    "    layers.Dense(1, activation = 'sigmoid')\n",
    "])"
   ]
  },
  {
   "cell_type": "code",
   "execution_count": null,
   "metadata": {},
   "outputs": [
    {
     "name": "stdout",
     "output_type": "stream",
     "text": [
      "Epoch 1/30\n",
      "51/51 [==============================] - 1s 2ms/step - loss: 0.4491\n",
      "Epoch 2/30\n",
      "51/51 [==============================] - 0s 2ms/step - loss: 0.3932\n",
      "Epoch 3/30\n",
      "51/51 [==============================] - 0s 2ms/step - loss: 0.3926\n",
      "Epoch 4/30\n",
      "51/51 [==============================] - 0s 2ms/step - loss: 0.3928\n",
      "Epoch 5/30\n",
      "51/51 [==============================] - 0s 2ms/step - loss: 0.3918\n",
      "Epoch 6/30\n",
      "51/51 [==============================] - 0s 2ms/step - loss: 0.3929\n",
      "Epoch 7/30\n",
      "51/51 [==============================] - 0s 2ms/step - loss: 0.4002\n",
      "Epoch 8/30\n",
      "51/51 [==============================] - 0s 2ms/step - loss: 0.3907\n",
      "Epoch 9/30\n",
      "51/51 [==============================] - 0s 2ms/step - loss: 0.3931\n",
      "Epoch 10/30\n",
      "51/51 [==============================] - 0s 2ms/step - loss: 0.3941\n",
      "Epoch 11/30\n",
      "51/51 [==============================] - 0s 2ms/step - loss: 0.3915\n",
      "Epoch 12/30\n",
      "51/51 [==============================] - 0s 2ms/step - loss: 0.3952\n",
      "Epoch 13/30\n",
      "51/51 [==============================] - 0s 2ms/step - loss: 0.3912\n",
      "Epoch 14/30\n",
      "51/51 [==============================] - 0s 2ms/step - loss: 0.3921\n",
      "Epoch 15/30\n",
      "51/51 [==============================] - 0s 2ms/step - loss: 0.3910\n",
      "Epoch 16/30\n",
      "51/51 [==============================] - 0s 2ms/step - loss: 0.3924\n",
      "Epoch 17/30\n",
      "51/51 [==============================] - 0s 2ms/step - loss: 0.3914\n",
      "Epoch 18/30\n",
      "51/51 [==============================] - 0s 2ms/step - loss: 0.3912\n",
      "Epoch 19/30\n",
      "51/51 [==============================] - 0s 2ms/step - loss: 0.3921\n",
      "Epoch 20/30\n",
      "51/51 [==============================] - 0s 2ms/step - loss: 0.3906\n",
      "Epoch 21/30\n",
      "51/51 [==============================] - 0s 2ms/step - loss: 0.3942\n",
      "Epoch 22/30\n",
      "51/51 [==============================] - 0s 2ms/step - loss: 0.3920\n",
      "Epoch 23/30\n",
      "51/51 [==============================] - 0s 2ms/step - loss: 0.3948\n",
      "Epoch 24/30\n",
      "51/51 [==============================] - 0s 2ms/step - loss: 0.3921\n",
      "Epoch 25/30\n",
      "51/51 [==============================] - 0s 2ms/step - loss: 0.3912\n",
      "Epoch 26/30\n",
      "51/51 [==============================] - 0s 2ms/step - loss: 0.3950\n",
      "Epoch 27/30\n",
      "51/51 [==============================] - 0s 2ms/step - loss: 0.3910\n",
      "Epoch 28/30\n",
      "51/51 [==============================] - 0s 2ms/step - loss: 0.3926\n",
      "Epoch 29/30\n",
      "51/51 [==============================] - 0s 2ms/step - loss: 0.3919\n",
      "Epoch 30/30\n",
      "51/51 [==============================] - 0s 2ms/step - loss: 0.3921\n"
     ]
    },
    {
     "data": {
      "text/plain": [
       "<keras.callbacks.History at 0x7fab83ac29a0>"
      ]
     },
     "execution_count": 23,
     "metadata": {},
     "output_type": "execute_result"
    }
   ],
   "source": [
    "spectral_model.compile(optimizer='adam', loss='binary_crossentropy')\n",
    "spectral_model.fit(x_train, y_train, epochs=30)"
   ]
  },
  {
   "cell_type": "code",
   "execution_count": null,
   "metadata": {},
   "outputs": [
    {
     "name": "stdout",
     "output_type": "stream",
     "text": [
      "1626\n",
      "1626\n",
      "407\n",
      "407\n"
     ]
    }
   ],
   "source": [
    "print(len(x_train))\n",
    "print(len(y_train))\n",
    "print(len(x_test))\n",
    "print(len(y_test))"
   ]
  },
  {
   "cell_type": "code",
   "execution_count": null,
   "metadata": {},
   "outputs": [
    {
     "name": "stdout",
     "output_type": "stream",
     "text": [
      "13/13 [==============================] - 0s 2ms/step\n",
      "0.8648648648648649\n"
     ]
    }
   ],
   "source": [
    "y_hat = spectral_model.predict(x_test)\n",
    "#print(y_hat)\n",
    "right = 0\n",
    "for i in range(len(y_hat)):\n",
    "    t = 1\n",
    "    if y_hat[i] > 0.5:\n",
    "        t = 1\n",
    "    if t == y_test[i]:\n",
    "        right += 1\n",
    "print(right/len(y_test))"
   ]
  },
  {
   "cell_type": "code",
   "execution_count": null,
   "metadata": {},
   "outputs": [
    {
     "name": "stdout",
     "output_type": "stream",
     "text": [
      "352 55\n"
     ]
    }
   ],
   "source": [
    "print(list(y_test).count(1),list(y_test).count(0))"
   ]
  }
 ],
 "metadata": {
  "kernelspec": {
   "display_name": "Python 3",
   "language": "python",
   "name": "python3"
  },
  "language_info": {
   "codemirror_mode": {
    "name": "ipython",
    "version": 3
   },
   "file_extension": ".py",
   "mimetype": "text/x-python",
   "name": "python",
   "nbconvert_exporter": "python",
   "pygments_lexer": "ipython3",
   "version": "3.9.1"
  }
 },
 "nbformat": 4,
 "nbformat_minor": 2
}
