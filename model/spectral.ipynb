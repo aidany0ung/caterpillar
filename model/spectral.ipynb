{
 "cells": [
  {
   "cell_type": "code",
   "execution_count": 17,
   "metadata": {},
   "outputs": [],
   "source": [
    "import tensorflow as tf\n",
    "import matplotlib.pyplot as plt\n",
    "import numpy as np\n",
    "from dataloader import DataLoader\n",
    "\n",
    "from tensorflow.keras import layers, losses\n",
    "from tensorflow.keras.layers import Dense, Flatten, Reshape\n",
    "from tensorflow.keras.models import Sequential, Model\n",
    "from tensorflow.keras.optimizers import Adam\n",
    "from tensorflow.keras.layers import LeakyReLU"
   ]
  },
  {
   "cell_type": "code",
   "execution_count": 18,
   "metadata": {},
   "outputs": [
    {
     "name": "stdout",
     "output_type": "stream",
     "text": [
      "/Users/aidan/Documents/caterpillar/model\n"
     ]
    },
    {
     "name": "stderr",
     "output_type": "stream",
     "text": [
      "[18:50:42] WARNING: not removing hydrogen atom without neighbors\n",
      "[18:50:42] WARNING: not removing hydrogen atom without neighbors\n",
      "[18:50:42] WARNING: not removing hydrogen atom without neighbors\n",
      "[18:50:42] WARNING: not removing hydrogen atom without neighbors\n",
      "[18:50:42] WARNING: not removing hydrogen atom without neighbors\n",
      "[18:50:42] WARNING: not removing hydrogen atom without neighbors\n",
      "[18:50:42] WARNING: not removing hydrogen atom without neighbors\n",
      "[18:50:42] WARNING: not removing hydrogen atom without neighbors\n",
      "[18:50:42] WARNING: not removing hydrogen atom without neighbors\n",
      "[18:50:42] WARNING: not removing hydrogen atom without neighbors\n",
      "[18:50:42] WARNING: not removing hydrogen atom without neighbors\n",
      "[18:50:42] WARNING: not removing hydrogen atom without neighbors\n",
      "[18:50:42] WARNING: not removing hydrogen atom without neighbors\n",
      "[18:50:42] WARNING: not removing hydrogen atom without neighbors\n",
      "[18:50:42] WARNING: not removing hydrogen atom without neighbors\n",
      "[18:50:42] WARNING: not removing hydrogen atom without neighbors\n",
      "[18:50:42] WARNING: not removing hydrogen atom without neighbors\n",
      "[18:50:42] WARNING: not removing hydrogen atom without neighbors\n",
      "[18:50:42] WARNING: not removing hydrogen atom without neighbors\n",
      "[18:50:42] WARNING: not removing hydrogen atom without neighbors\n",
      "[18:50:42] WARNING: not removing hydrogen atom without neighbors\n",
      "[18:50:42] WARNING: not removing hydrogen atom without neighbors\n",
      "[18:50:42] WARNING: not removing hydrogen atom without neighbors\n",
      "[18:50:42] WARNING: not removing hydrogen atom without neighbors\n",
      "[18:50:42] WARNING: not removing hydrogen atom without neighbors\n",
      "[18:50:42] WARNING: not removing hydrogen atom without neighbors\n",
      "[18:50:42] WARNING: not removing hydrogen atom without neighbors\n",
      "[18:50:42] WARNING: not removing hydrogen atom without neighbors\n",
      "[18:50:42] WARNING: not removing hydrogen atom without neighbors\n",
      "[18:50:42] WARNING: not removing hydrogen atom without neighbors\n",
      "[18:50:42] WARNING: not removing hydrogen atom without neighbors\n",
      "[18:50:42] WARNING: not removing hydrogen atom without neighbors\n",
      "[18:50:42] WARNING: not removing hydrogen atom without neighbors\n",
      "[18:50:42] WARNING: not removing hydrogen atom without neighbors\n",
      "[18:50:42] WARNING: not removing hydrogen atom without neighbors\n",
      "[18:50:42] WARNING: not removing hydrogen atom without neighbors\n",
      "[18:50:42] WARNING: not removing hydrogen atom without neighbors\n",
      "[18:50:42] WARNING: not removing hydrogen atom without neighbors\n",
      "[18:50:43] WARNING: not removing hydrogen atom without neighbors\n",
      "[18:50:43] WARNING: not removing hydrogen atom without neighbors\n"
     ]
    },
    {
     "name": "stdout",
     "output_type": "stream",
     "text": [
      "/Users/aidan/Documents/caterpillar/model\n"
     ]
    },
    {
     "name": "stderr",
     "output_type": "stream",
     "text": [
      "[18:50:44] WARNING: not removing hydrogen atom without neighbors\n",
      "[18:50:44] WARNING: not removing hydrogen atom without neighbors\n",
      "[18:50:44] WARNING: not removing hydrogen atom without neighbors\n",
      "[18:50:44] WARNING: not removing hydrogen atom without neighbors\n",
      "[18:50:44] WARNING: not removing hydrogen atom without neighbors\n",
      "[18:50:44] WARNING: not removing hydrogen atom without neighbors\n",
      "[18:50:44] WARNING: not removing hydrogen atom without neighbors\n",
      "[18:50:44] WARNING: not removing hydrogen atom without neighbors\n",
      "[18:50:44] WARNING: not removing hydrogen atom without neighbors\n",
      "[18:50:44] WARNING: not removing hydrogen atom without neighbors\n",
      "[18:50:44] WARNING: not removing hydrogen atom without neighbors\n",
      "[18:50:44] WARNING: not removing hydrogen atom without neighbors\n",
      "[18:50:44] WARNING: not removing hydrogen atom without neighbors\n",
      "[18:50:44] WARNING: not removing hydrogen atom without neighbors\n",
      "[18:50:44] WARNING: not removing hydrogen atom without neighbors\n",
      "[18:50:44] WARNING: not removing hydrogen atom without neighbors\n",
      "[18:50:44] WARNING: not removing hydrogen atom without neighbors\n",
      "[18:50:44] WARNING: not removing hydrogen atom without neighbors\n",
      "[18:50:44] WARNING: not removing hydrogen atom without neighbors\n",
      "[18:50:44] WARNING: not removing hydrogen atom without neighbors\n",
      "[18:50:44] WARNING: not removing hydrogen atom without neighbors\n",
      "[18:50:44] WARNING: not removing hydrogen atom without neighbors\n",
      "[18:50:44] WARNING: not removing hydrogen atom without neighbors\n",
      "[18:50:44] WARNING: not removing hydrogen atom without neighbors\n",
      "[18:50:44] WARNING: not removing hydrogen atom without neighbors\n",
      "[18:50:44] WARNING: not removing hydrogen atom without neighbors\n",
      "[18:50:44] WARNING: not removing hydrogen atom without neighbors\n",
      "[18:50:44] WARNING: not removing hydrogen atom without neighbors\n",
      "[18:50:44] WARNING: not removing hydrogen atom without neighbors\n",
      "[18:50:44] WARNING: not removing hydrogen atom without neighbors\n",
      "[18:50:44] WARNING: not removing hydrogen atom without neighbors\n",
      "[18:50:44] WARNING: not removing hydrogen atom without neighbors\n",
      "[18:50:44] WARNING: not removing hydrogen atom without neighbors\n",
      "[18:50:44] WARNING: not removing hydrogen atom without neighbors\n",
      "[18:50:44] WARNING: not removing hydrogen atom without neighbors\n",
      "[18:50:44] WARNING: not removing hydrogen atom without neighbors\n",
      "[18:50:44] WARNING: not removing hydrogen atom without neighbors\n",
      "[18:50:44] WARNING: not removing hydrogen atom without neighbors\n",
      "[18:50:44] WARNING: not removing hydrogen atom without neighbors\n",
      "[18:50:44] WARNING: not removing hydrogen atom without neighbors\n"
     ]
    }
   ],
   "source": [
    "x_train, x_test, y_train, y_test = DataLoader('../data/test.csv', modelType='spectral').getData()"
   ]
  },
  {
   "cell_type": "code",
   "execution_count": 19,
   "metadata": {},
   "outputs": [
    {
     "name": "stdout",
     "output_type": "stream",
     "text": [
      "[array([[0.00182425]]), array([[-0.00809974]]), array([[0.00212654]]), array([[0.00078435]]), array([[-0.00482474]]), array([[0.01581301]]), array([[-0.02566007]]), array([[0.07245896]]), array([[-0.22360249]]), array([[0.3635491]]), array([[-0.48075187]]), array([[0.41812707]]), array([[-0.15340485]]), array([[0.10959352]]), array([[-0.38609483]]), array([[0.13258105]]), array([[-0.06999079]]), array([[0.01576351]]), array([[0.02243657]]), array([[-0.00719216]]), array([[0.00230484]]), array([[-0.00073661]]), array([[0.00022913]]), array([[-5.16048411e-05]]), array([[0.39138316]]), array([[-0.08814834]]), array([[-0.18272414]]), array([[0.04115361]]), array([[0.04115361]]), 0, 0, 0, 0, 0, 0, 0, 0, 0, 0, 0, 0, 0, 0, 0, 0, 0, 0, 0, 0, 0, 0, 0, 0, 0, 0, 0, 0, 0, 0, 0, 0, 0, 0, 0, 0, 0, 0, 0, 0, 0, 0, 0, 0, 0, 0, 0, 0, 0, 0, 0, 0, 0, 0, 0, 0, 0, 0, 0, 0, 0, array([[-0.18569534]]), array([[-0.18569534]]), array([[-0.18569534]]), array([[-0.18569534]]), array([[-0.18569534]]), array([[-0.18569534]]), array([[-0.18569534]]), array([[-0.18569534]]), array([[-0.18569534]]), array([[-0.18569534]]), array([[-0.18569534]]), array([[-0.18569534]]), array([[-0.18569534]]), array([[-0.18569534]]), array([[-0.18569534]]), array([[-0.18569534]]), array([[-0.18569534]]), array([[-0.18569534]]), array([[-0.18569534]]), array([[-0.18569534]]), array([[-0.18569534]]), array([[-0.18569534]]), array([[-0.18569534]]), array([[-0.18569534]]), array([[-0.18569534]]), array([[-0.18569534]]), array([[-0.18569534]]), array([[-0.18569534]]), array([[-0.18569534]]), 0, 0, 0, 0, 0, 0, 0, 0, 0, 0, 0, 0, 0, 0, 0, 0, 0, 0, 0, 0, 0, 0, 0, 0, 0, 0, 0, 0, 0, 0, 0, 0, 0, 0, 0, 0, 0, 0, 0, 0, 0, 0, 0, 0, 0, 0, 0, 0, 0, 0, 0, 0, 0, 0, 0, 0, 0, 0, 0, 0, 0, 5.440051468375353, 2.959641000710356e-16]\n"
     ]
    }
   ],
   "source": [
    "print(x_train[0])"
   ]
  },
  {
   "cell_type": "code",
   "execution_count": 5,
   "metadata": {},
   "outputs": [],
   "source": [
    "spectral_model = tf.keras.Sequential([\n",
    "    layers.Dense(300, activation = 'relu', input_dim = len(x_train[0])),\n",
    "    layers.Dense(150, activation = 'relu'),\n",
    "    layers.Dense(50, activation = 'relu'),\n",
    "    layers.Dense(10, activation = 'relu'),\n",
    "    layers.Dense(2, activation = 'softmax')\n",
    "])"
   ]
  },
  {
   "cell_type": "code",
   "execution_count": 6,
   "metadata": {},
   "outputs": [
    {
     "ename": "ValueError",
     "evalue": "Failed to find data adapter that can handle input: (<class 'list'> containing values of types {'(<class \\'list\\'> containing values of types {\"<class \\'int\\'>\", \"<class \\'numpy.ndarray\\'>\", \"<class \\'numpy.float64\\'>\"})', '(<class \\'list\\'> containing values of types {\"<class \\'numpy.ndarray\\'>\", \"<class \\'numpy.float64\\'>\"})'}), (<class 'list'> containing values of types {'(<class \\'list\\'> containing values of types {\"<class \\'int\\'>\", \"<class \\'numpy.ndarray\\'>\", \"<class \\'numpy.float64\\'>\"})'})",
     "output_type": "error",
     "traceback": [
      "\u001b[0;31m---------------------------------------------------------------------------\u001b[0m",
      "\u001b[0;31mValueError\u001b[0m                                Traceback (most recent call last)",
      "\u001b[1;32m/Users/aidan/Documents/caterpillar/model/spectral.ipynb Cell 4\u001b[0m line \u001b[0;36m2\n\u001b[1;32m      <a href='vscode-notebook-cell:/Users/aidan/Documents/caterpillar/model/spectral.ipynb#W3sZmlsZQ%3D%3D?line=0'>1</a>\u001b[0m spectral_model\u001b[39m.\u001b[39mcompile(optimizer\u001b[39m=\u001b[39m\u001b[39m'\u001b[39m\u001b[39madam\u001b[39m\u001b[39m'\u001b[39m, loss\u001b[39m=\u001b[39mlosses\u001b[39m.\u001b[39mMeanSquaredError())\n\u001b[0;32m----> <a href='vscode-notebook-cell:/Users/aidan/Documents/caterpillar/model/spectral.ipynb#W3sZmlsZQ%3D%3D?line=1'>2</a>\u001b[0m spectral_model\u001b[39m.\u001b[39;49mfit(x_train, y_train, epochs\u001b[39m=\u001b[39;49m\u001b[39m10\u001b[39;49m, batch_size\u001b[39m=\u001b[39;49m\u001b[39m128\u001b[39;49m)\n",
      "File \u001b[0;32m/Library/Frameworks/Python.framework/Versions/3.9/lib/python3.9/site-packages/keras/utils/traceback_utils.py:70\u001b[0m, in \u001b[0;36mfilter_traceback.<locals>.error_handler\u001b[0;34m(*args, **kwargs)\u001b[0m\n\u001b[1;32m     67\u001b[0m     filtered_tb \u001b[39m=\u001b[39m _process_traceback_frames(e\u001b[39m.\u001b[39m__traceback__)\n\u001b[1;32m     68\u001b[0m     \u001b[39m# To get the full stack trace, call:\u001b[39;00m\n\u001b[1;32m     69\u001b[0m     \u001b[39m# `tf.debugging.disable_traceback_filtering()`\u001b[39;00m\n\u001b[0;32m---> 70\u001b[0m     \u001b[39mraise\u001b[39;00m e\u001b[39m.\u001b[39mwith_traceback(filtered_tb) \u001b[39mfrom\u001b[39;00m \u001b[39mNone\u001b[39;00m\n\u001b[1;32m     71\u001b[0m \u001b[39mfinally\u001b[39;00m:\n\u001b[1;32m     72\u001b[0m     \u001b[39mdel\u001b[39;00m filtered_tb\n",
      "File \u001b[0;32m/Library/Frameworks/Python.framework/Versions/3.9/lib/python3.9/site-packages/keras/engine/data_adapter.py:1082\u001b[0m, in \u001b[0;36mselect_data_adapter\u001b[0;34m(x, y)\u001b[0m\n\u001b[1;32m   1079\u001b[0m adapter_cls \u001b[39m=\u001b[39m [\u001b[39mcls\u001b[39m \u001b[39mfor\u001b[39;00m \u001b[39mcls\u001b[39m \u001b[39min\u001b[39;00m ALL_ADAPTER_CLS \u001b[39mif\u001b[39;00m \u001b[39mcls\u001b[39m\u001b[39m.\u001b[39mcan_handle(x, y)]\n\u001b[1;32m   1080\u001b[0m \u001b[39mif\u001b[39;00m \u001b[39mnot\u001b[39;00m adapter_cls:\n\u001b[1;32m   1081\u001b[0m     \u001b[39m# TODO(scottzhu): This should be a less implementation-specific error.\u001b[39;00m\n\u001b[0;32m-> 1082\u001b[0m     \u001b[39mraise\u001b[39;00m \u001b[39mValueError\u001b[39;00m(\n\u001b[1;32m   1083\u001b[0m         \u001b[39m\"\u001b[39m\u001b[39mFailed to find data adapter that can handle input: \u001b[39m\u001b[39m{}\u001b[39;00m\u001b[39m, \u001b[39m\u001b[39m{}\u001b[39;00m\u001b[39m\"\u001b[39m\u001b[39m.\u001b[39mformat(\n\u001b[1;32m   1084\u001b[0m             _type_name(x), _type_name(y)\n\u001b[1;32m   1085\u001b[0m         )\n\u001b[1;32m   1086\u001b[0m     )\n\u001b[1;32m   1087\u001b[0m \u001b[39melif\u001b[39;00m \u001b[39mlen\u001b[39m(adapter_cls) \u001b[39m>\u001b[39m \u001b[39m1\u001b[39m:\n\u001b[1;32m   1088\u001b[0m     \u001b[39mraise\u001b[39;00m \u001b[39mRuntimeError\u001b[39;00m(\n\u001b[1;32m   1089\u001b[0m         \u001b[39m\"\u001b[39m\u001b[39mData adapters should be mutually exclusive for \u001b[39m\u001b[39m\"\u001b[39m\n\u001b[1;32m   1090\u001b[0m         \u001b[39m\"\u001b[39m\u001b[39mhandling inputs. Found multiple adapters \u001b[39m\u001b[39m{}\u001b[39;00m\u001b[39m to handle \u001b[39m\u001b[39m\"\u001b[39m\n\u001b[1;32m   1091\u001b[0m         \u001b[39m\"\u001b[39m\u001b[39minput: \u001b[39m\u001b[39m{}\u001b[39;00m\u001b[39m, \u001b[39m\u001b[39m{}\u001b[39;00m\u001b[39m\"\u001b[39m\u001b[39m.\u001b[39mformat(adapter_cls, _type_name(x), _type_name(y))\n\u001b[1;32m   1092\u001b[0m     )\n",
      "\u001b[0;31mValueError\u001b[0m: Failed to find data adapter that can handle input: (<class 'list'> containing values of types {'(<class \\'list\\'> containing values of types {\"<class \\'int\\'>\", \"<class \\'numpy.ndarray\\'>\", \"<class \\'numpy.float64\\'>\"})', '(<class \\'list\\'> containing values of types {\"<class \\'numpy.ndarray\\'>\", \"<class \\'numpy.float64\\'>\"})'}), (<class 'list'> containing values of types {'(<class \\'list\\'> containing values of types {\"<class \\'int\\'>\", \"<class \\'numpy.ndarray\\'>\", \"<class \\'numpy.float64\\'>\"})'})"
     ]
    }
   ],
   "source": [
    "spectral_model.compile(optimizer='adam', loss=losses.MeanSquaredError())\n",
    "spectral_model.fit(x_train, y_train, epochs=10, batch_size=128)"
   ]
  }
 ],
 "metadata": {
  "kernelspec": {
   "display_name": "Python 3",
   "language": "python",
   "name": "python3"
  },
  "language_info": {
   "codemirror_mode": {
    "name": "ipython",
    "version": 3
   },
   "file_extension": ".py",
   "mimetype": "text/x-python",
   "name": "python",
   "nbconvert_exporter": "python",
   "pygments_lexer": "ipython3",
   "version": "3.9.1"
  }
 },
 "nbformat": 4,
 "nbformat_minor": 2
}
