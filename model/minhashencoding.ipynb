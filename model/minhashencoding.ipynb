{
 "cells": [
  {
   "cell_type": "code",
   "execution_count": 26,
   "metadata": {},
   "outputs": [
    {
     "name": "stdout",
     "output_type": "stream",
     "text": [
      "/Users/aidan/Documents/caterpillar/model\n"
     ]
    },
    {
     "name": "stderr",
     "output_type": "stream",
     "text": [
      "[22:02:09] WARNING: not removing hydrogen atom without neighbors\n",
      "[22:02:09] WARNING: not removing hydrogen atom without neighbors\n",
      "[22:02:09] WARNING: not removing hydrogen atom without neighbors\n",
      "[22:02:09] WARNING: not removing hydrogen atom without neighbors\n",
      "[22:02:09] WARNING: not removing hydrogen atom without neighbors\n",
      "[22:02:09] WARNING: not removing hydrogen atom without neighbors\n",
      "[22:02:09] WARNING: not removing hydrogen atom without neighbors\n",
      "[22:02:09] WARNING: not removing hydrogen atom without neighbors\n",
      "[22:02:09] WARNING: not removing hydrogen atom without neighbors\n",
      "[22:02:09] WARNING: not removing hydrogen atom without neighbors\n",
      "[22:02:09] WARNING: not removing hydrogen atom without neighbors\n",
      "[22:02:09] WARNING: not removing hydrogen atom without neighbors\n",
      "[22:02:09] WARNING: not removing hydrogen atom without neighbors\n",
      "[22:02:09] WARNING: not removing hydrogen atom without neighbors\n",
      "[22:02:09] WARNING: not removing hydrogen atom without neighbors\n",
      "[22:02:09] WARNING: not removing hydrogen atom without neighbors\n",
      "[22:02:09] WARNING: not removing hydrogen atom without neighbors\n",
      "[22:02:09] WARNING: not removing hydrogen atom without neighbors\n",
      "[22:02:09] WARNING: not removing hydrogen atom without neighbors\n",
      "[22:02:09] WARNING: not removing hydrogen atom without neighbors\n",
      "[22:02:09] WARNING: not removing hydrogen atom without neighbors\n",
      "[22:02:09] WARNING: not removing hydrogen atom without neighbors\n",
      "[22:02:09] WARNING: not removing hydrogen atom without neighbors\n",
      "[22:02:09] WARNING: not removing hydrogen atom without neighbors\n",
      "[22:02:09] WARNING: not removing hydrogen atom without neighbors\n",
      "[22:02:09] WARNING: not removing hydrogen atom without neighbors\n",
      "[22:02:09] WARNING: not removing hydrogen atom without neighbors\n",
      "[22:02:09] WARNING: not removing hydrogen atom without neighbors\n",
      "[22:02:09] WARNING: not removing hydrogen atom without neighbors\n",
      "[22:02:09] WARNING: not removing hydrogen atom without neighbors\n",
      "[22:02:09] WARNING: not removing hydrogen atom without neighbors\n",
      "[22:02:09] WARNING: not removing hydrogen atom without neighbors\n",
      "[22:02:09] WARNING: not removing hydrogen atom without neighbors\n",
      "[22:02:09] WARNING: not removing hydrogen atom without neighbors\n",
      "[22:02:09] WARNING: not removing hydrogen atom without neighbors\n",
      "[22:02:09] WARNING: not removing hydrogen atom without neighbors\n",
      "[22:02:09] WARNING: not removing hydrogen atom without neighbors\n",
      "[22:02:09] WARNING: not removing hydrogen atom without neighbors\n",
      "[22:02:09] WARNING: not removing hydrogen atom without neighbors\n",
      "[22:02:09] WARNING: not removing hydrogen atom without neighbors\n"
     ]
    }
   ],
   "source": [
    "from mhfp.encoder import MHFPEncoder\n",
    "from dataloader import DataLoader\n",
    "\n",
    "mhfp_encoder = MHFPEncoder()\n",
    "dl = DataLoader(\"../data/test.csv\", modelType='smile',fiftyfifty=True)"
   ]
  },
  {
   "cell_type": "code",
   "execution_count": 27,
   "metadata": {},
   "outputs": [],
   "source": [
    "dl.getData()"
   ]
  }
 ],
 "metadata": {
  "kernelspec": {
   "display_name": "Python 3",
   "language": "python",
   "name": "python3"
  },
  "language_info": {
   "codemirror_mode": {
    "name": "ipython",
    "version": 3
   },
   "file_extension": ".py",
   "mimetype": "text/x-python",
   "name": "python",
   "nbconvert_exporter": "python",
   "pygments_lexer": "ipython3",
   "version": "3.9.1"
  }
 },
 "nbformat": 4,
 "nbformat_minor": 2
}
