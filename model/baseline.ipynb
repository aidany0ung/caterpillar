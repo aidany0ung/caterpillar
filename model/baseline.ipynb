{
 "cells": [
  {
   "cell_type": "code",
   "execution_count": 24,
   "metadata": {},
   "outputs": [],
   "source": [
    "import numpy as np\n",
    "import pandas as pd\n",
    "from sklearn.linear_model import LogisticRegression\n",
    "from sklearn.model_selection import train_test_split\n",
    "from dataloader import DataLoader"
   ]
  },
  {
   "cell_type": "code",
   "execution_count": 26,
   "metadata": {},
   "outputs": [
    {
     "name": "stdout",
     "output_type": "stream",
     "text": [
      "/Users/aidan/Documents/caterpillar/model\n"
     ]
    },
    {
     "name": "stderr",
     "output_type": "stream",
     "text": [
      "[21:39:59] WARNING: not removing hydrogen atom without neighbors\n",
      "[21:39:59] WARNING: not removing hydrogen atom without neighbors\n",
      "[21:39:59] WARNING: not removing hydrogen atom without neighbors\n",
      "[21:39:59] WARNING: not removing hydrogen atom without neighbors\n",
      "[21:39:59] WARNING: not removing hydrogen atom without neighbors\n",
      "[21:39:59] WARNING: not removing hydrogen atom without neighbors\n",
      "[21:39:59] WARNING: not removing hydrogen atom without neighbors\n",
      "[21:40:00] WARNING: not removing hydrogen atom without neighbors\n",
      "[21:40:00] WARNING: not removing hydrogen atom without neighbors\n",
      "[21:40:00] WARNING: not removing hydrogen atom without neighbors\n",
      "[21:40:00] WARNING: not removing hydrogen atom without neighbors\n",
      "[21:40:00] WARNING: not removing hydrogen atom without neighbors\n",
      "[21:40:00] WARNING: not removing hydrogen atom without neighbors\n",
      "[21:40:00] WARNING: not removing hydrogen atom without neighbors\n",
      "[21:40:00] WARNING: not removing hydrogen atom without neighbors\n",
      "[21:40:00] WARNING: not removing hydrogen atom without neighbors\n",
      "[21:40:00] WARNING: not removing hydrogen atom without neighbors\n",
      "[21:40:00] WARNING: not removing hydrogen atom without neighbors\n",
      "[21:40:00] WARNING: not removing hydrogen atom without neighbors\n",
      "[21:40:00] WARNING: not removing hydrogen atom without neighbors\n",
      "[21:40:00] WARNING: not removing hydrogen atom without neighbors\n",
      "[21:40:00] WARNING: not removing hydrogen atom without neighbors\n",
      "[21:40:00] WARNING: not removing hydrogen atom without neighbors\n",
      "[21:40:00] WARNING: not removing hydrogen atom without neighbors\n",
      "[21:40:00] WARNING: not removing hydrogen atom without neighbors\n",
      "[21:40:00] WARNING: not removing hydrogen atom without neighbors\n",
      "[21:40:00] WARNING: not removing hydrogen atom without neighbors\n",
      "[21:40:00] WARNING: not removing hydrogen atom without neighbors\n",
      "[21:40:00] WARNING: not removing hydrogen atom without neighbors\n",
      "[21:40:00] WARNING: not removing hydrogen atom without neighbors\n",
      "[21:40:00] WARNING: not removing hydrogen atom without neighbors\n",
      "[21:40:00] WARNING: not removing hydrogen atom without neighbors\n",
      "[21:40:00] WARNING: not removing hydrogen atom without neighbors\n",
      "[21:40:00] WARNING: not removing hydrogen atom without neighbors\n",
      "[21:40:00] WARNING: not removing hydrogen atom without neighbors\n",
      "[21:40:00] WARNING: not removing hydrogen atom without neighbors\n",
      "[21:40:00] WARNING: not removing hydrogen atom without neighbors\n",
      "[21:40:00] WARNING: not removing hydrogen atom without neighbors\n",
      "[21:40:00] WARNING: not removing hydrogen atom without neighbors\n",
      "[21:40:00] WARNING: not removing hydrogen atom without neighbors\n"
     ]
    }
   ],
   "source": [
    "# Load the data\n",
    "X_train, y_train, X_test, y_test = DataLoader('../data/test.csv',modelType='baseline',fiftyfifty=True).getData()"
   ]
  },
  {
   "cell_type": "code",
   "execution_count": 21,
   "metadata": {},
   "outputs": [],
   "source": []
  },
  {
   "cell_type": "code",
   "execution_count": 27,
   "metadata": {},
   "outputs": [
    {
     "name": "stdout",
     "output_type": "stream",
     "text": [
      "Accuracy: 0.5572916666666666\n"
     ]
    }
   ],
   "source": [
    "# Define the logistic regression model\n",
    "model = LogisticRegression()\n",
    "\n",
    "# Fit the model to the training data\n",
    "model.fit(X_train, y_train)\n",
    "\n",
    "# Evaluate the model on the testing data\n",
    "from sklearn.metrics import accuracy_score\n",
    "\n",
    "accuracy = accuracy_score(y_test, model.predict(X_test))\n",
    "print(\"Accuracy:\", accuracy)"
   ]
  }
 ],
 "metadata": {
  "kernelspec": {
   "display_name": "Python 3",
   "language": "python",
   "name": "python3"
  },
  "language_info": {
   "codemirror_mode": {
    "name": "ipython",
    "version": 3
   },
   "file_extension": ".py",
   "mimetype": "text/x-python",
   "name": "python",
   "nbconvert_exporter": "python",
   "pygments_lexer": "ipython3",
   "version": "3.9.1"
  }
 },
 "nbformat": 4,
 "nbformat_minor": 2
}
